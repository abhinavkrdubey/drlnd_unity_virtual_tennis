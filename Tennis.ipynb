{
 "cells": [
  {
   "cell_type": "markdown",
   "metadata": {},
   "source": [
    "# Collaboration and Competition\n",
    "\n",
    "---\n",
    "\n",
    "In this notebook, you will learn how to use the Unity ML-Agents environment for the third project of the [Deep Reinforcement Learning Nanodegree](https://www.udacity.com/course/deep-reinforcement-learning-nanodegree--nd893) program.\n",
    "\n",
    "### 1. Start the Environment\n",
    "\n",
    "We begin by importing the necessary packages.  If the code cell below returns an error, please revisit the project instructions to double-check that you have installed [Unity ML-Agents](https://github.com/Unity-Technologies/ml-agents/blob/master/docs/Installation.md) and [NumPy](http://www.numpy.org/)."
   ]
  },
  {
   "cell_type": "code",
   "execution_count": 1,
   "metadata": {},
   "outputs": [
    {
     "name": "stderr",
     "output_type": "stream",
     "text": [
      "ERROR: Invalid requirement: './python'\n"
     ]
    }
   ],
   "source": [
    "!pip -q install ./python"
   ]
  },
  {
   "cell_type": "code",
   "execution_count": 2,
   "metadata": {},
   "outputs": [],
   "source": [
    "from unityagents import UnityEnvironment\n",
    "import numpy as np\n",
    "from collections import deque\n",
    "from itertools import count\n",
    "import time\n",
    "import torch\n",
    "from Agent import Agent\n",
    "import matplotlib.pyplot as plt\n",
    "%matplotlib inline"
   ]
  },
  {
   "cell_type": "markdown",
   "metadata": {},
   "source": [
    "Next, we will start the environment!  **_Before running the code cell below_**, change the `file_name` parameter to match the location of the Unity environment that you downloaded.\n",
    "\n",
    "- **Mac**: `\"path/to/Tennis.app\"`\n",
    "- **Windows** (x86): `\"path/to/Tennis_Windows_x86/Tennis.exe\"`\n",
    "- **Windows** (x86_64): `\"path/to/Tennis_Windows_x86_64/Tennis.exe\"`\n",
    "- **Linux** (x86): `\"path/to/Tennis_Linux/Tennis.x86\"`\n",
    "- **Linux** (x86_64): `\"path/to/Tennis_Linux/Tennis.x86_64\"`\n",
    "- **Linux** (x86, headless): `\"path/to/Tennis_Linux_NoVis/Tennis.x86\"`\n",
    "- **Linux** (x86_64, headless): `\"path/to/Tennis_Linux_NoVis/Tennis.x86_64\"`\n",
    "\n",
    "For instance, if you are using a Mac, then you downloaded `Tennis.app`.  If this file is in the same folder as the notebook, then the line below should appear as follows:\n",
    "```\n",
    "env = UnityEnvironment(file_name=\"Tennis.app\")\n",
    "```"
   ]
  },
  {
   "cell_type": "code",
   "execution_count": 3,
   "metadata": {},
   "outputs": [
    {
     "name": "stderr",
     "output_type": "stream",
     "text": [
      "INFO:unityagents:\n",
      "'Academy' started successfully!\n",
      "Unity Academy name: Academy\n",
      "        Number of Brains: 1\n",
      "        Number of External Brains : 1\n",
      "        Lesson number : 0\n",
      "        Reset Parameters :\n",
      "\t\t\n",
      "Unity brain name: TennisBrain\n",
      "        Number of Visual Observations (per agent): 0\n",
      "        Vector Observation space type: continuous\n",
      "        Vector Observation space size (per agent): 8\n",
      "        Number of stacked Vector Observation: 3\n",
      "        Vector Action space type: continuous\n",
      "        Vector Action space size (per agent): 2\n",
      "        Vector Action descriptions: , \n"
     ]
    }
   ],
   "source": [
    "env = UnityEnvironment(file_name=\"Tennis.exe\", worker_id=1, seed=2)"
   ]
  },
  {
   "cell_type": "markdown",
   "metadata": {},
   "source": [
    "Environments contain **_brains_** which are responsible for deciding the actions of their associated agents. Here we check for the first brain available, and set it as the default brain we will be controlling from Python."
   ]
  },
  {
   "cell_type": "code",
   "execution_count": 4,
   "metadata": {},
   "outputs": [],
   "source": [
    "# get the default brain\n",
    "brain_name = env.brain_names[0]\n",
    "brain = env.brains[brain_name]"
   ]
  },
  {
   "cell_type": "markdown",
   "metadata": {},
   "source": [
    "### 2. Examine the State and Action Spaces\n",
    "\n",
    "In this environment, two agents control rackets to bounce a ball over a net. If an agent hits the ball over the net, it receives a reward of +0.1.  If an agent lets a ball hit the ground or hits the ball out of bounds, it receives a reward of -0.01.  Thus, the goal of each agent is to keep the ball in play.\n",
    "\n",
    "The observation space consists of 8 variables corresponding to the position and velocity of the ball and racket. Two continuous actions are available, corresponding to movement toward (or away from) the net, and jumping. \n",
    "\n",
    "Run the code cell below to print some information about the environment."
   ]
  },
  {
   "cell_type": "code",
   "execution_count": 5,
   "metadata": {},
   "outputs": [
    {
     "name": "stdout",
     "output_type": "stream",
     "text": [
      "Number of agents: 2\n",
      "Size of each action: 2\n",
      "There are 2 agents. Each observes a state with length: 24\n",
      "The state for the first agent looks like: [ 0.          0.          0.          0.          0.          0.\n",
      "  0.          0.          0.          0.          0.          0.\n",
      "  0.          0.          0.          0.         -6.29742813 -1.5\n",
      " -0.          0.          7.17024279  6.         -0.          0.        ]\n"
     ]
    }
   ],
   "source": [
    "# reset the environment\n",
    "env_info = env.reset(train_mode=True)[brain_name]\n",
    "\n",
    "# number of agents \n",
    "num_agents = len(env_info.agents)\n",
    "print('Number of agents:', num_agents)\n",
    "\n",
    "# size of each action\n",
    "action_size = brain.vector_action_space_size\n",
    "print('Size of each action:', action_size)\n",
    "\n",
    "# examine the state space \n",
    "states = env_info.vector_observations\n",
    "state_size = states.shape[1]\n",
    "print('There are {} agents. Each observes a state with length: {}'.format(states.shape[0], state_size))\n",
    "print('The state for the first agent looks like:', states[0])"
   ]
  },
  {
   "cell_type": "markdown",
   "metadata": {},
   "source": [
    "### 3. Take Random Actions in the Environment\n",
    "\n",
    "In the next code cell, you will learn how to use the Python API to control the agents and receive feedback from the environment.\n",
    "\n",
    "Once this cell is executed, you will watch the agents' performance, if they select actions at random with each time step.  A window should pop up that allows you to observe the agents.\n",
    "\n",
    "Of course, as part of the project, you'll have to change the code so that the agents are able to use their experiences to gradually choose better actions when interacting with the environment!"
   ]
  },
  {
   "cell_type": "code",
   "execution_count": 6,
   "metadata": {},
   "outputs": [],
   "source": [
    "#for i in range(1, 6):                                      # play game for 5 episodes\n",
    "#    env_info = env.reset(train_mode=False)[brain_name]     # reset the environment    \n",
    "#    states = env_info.vector_observations                  # get the current state (for each agent)\n",
    "#    scores = np.zeros(num_agents)                          # initialize the score (for each agent)\n",
    "#    while True:\n",
    "#        actions = np.random.randn(num_agents, action_size) # select an action (for each agent)\n",
    "#        actions = np.clip(actions, -1, 1)                  # all actions between -1 and 1\n",
    "#        env_info = env.step(actions)[brain_name]           # send all actions to tne environment\n",
    "#        next_states = env_info.vector_observations         # get next state (for each agent)\n",
    "#        rewards = env_info.rewards                         # get reward (for each agent)\n",
    "#        dones = env_info.local_done                        # see if episode finished\n",
    "#        scores += env_info.rewards                         # update the score (for each agent)\n",
    "#        states = next_states                               # roll over states to next time step\n",
    "#        if np.any(dones):                                  # exit loop if episode finished\n",
    "#            break\n",
    "#    print('Score (max over agents) from episode {}: {}'.format(i, np.max(scores)))"
   ]
  },
  {
   "cell_type": "markdown",
   "metadata": {},
   "source": [
    "When finished, you can close the environment."
   ]
  },
  {
   "cell_type": "code",
   "execution_count": 7,
   "metadata": {},
   "outputs": [],
   "source": [
    "#env.close()"
   ]
  },
  {
   "cell_type": "markdown",
   "metadata": {},
   "source": [
    "### 4. It's Your Turn!\n",
    "\n",
    "Now it's your turn to train your own agent to solve the environment!  When training the environment, set `train_mode=True`, so that the line for resetting the environment looks like the following:\n",
    "```python\n",
    "env_info = env.reset(train_mode=True)[brain_name]\n",
    "```"
   ]
  },
  {
   "cell_type": "markdown",
   "metadata": {},
   "source": [
    "#### 1. Instantiate the Environment and Agent"
   ]
  },
  {
   "cell_type": "code",
   "execution_count": 8,
   "metadata": {},
   "outputs": [],
   "source": [
    "agent = Agent(state_size=state_size, action_size=action_size, num_agents=num_agents, random_seed=2)"
   ]
  },
  {
   "cell_type": "markdown",
   "metadata": {},
   "source": [
    "#### 2. Train the Agent with DDPG"
   ]
  },
  {
   "cell_type": "code",
   "execution_count": 9,
   "metadata": {},
   "outputs": [],
   "source": [
    "def save_model():\n",
    "    print(\"Model Save...\")\n",
    "    torch.save(agent.actor_local.state_dict(), 'checkpoint_actor.pth')\n",
    "    torch.save(agent.critic_local.state_dict(), 'checkpoint_critic.pth')"
   ]
  },
  {
   "cell_type": "code",
   "execution_count": 10,
   "metadata": {},
   "outputs": [
    {
     "name": "stdout",
     "output_type": "stream",
     "text": [
      "Episode 10, Average Score: -0.00, Max: 0.00, Min: -0.01, Time: 0.10\n",
      "Episode 20, Average Score: -0.00, Max: 0.00, Min: -0.01, Time: 0.09\n",
      "Episode 30, Average Score: -0.00, Max: 0.00, Min: -0.01, Time: 0.03\n",
      "Episode 40, Average Score: -0.00, Max: 0.09, Min: 0.00, Time: 0.52\n",
      "Episode 50, Average Score: -0.00, Max: 0.00, Min: -0.01, Time: 0.28\n",
      "Episode 60, Average Score: -0.00, Max: 0.00, Min: -0.01, Time: 0.03\n",
      "Episode 70, Average Score: -0.00, Max: 0.00, Min: -0.01, Time: 0.03\n",
      "Episode 80, Average Score: -0.00, Max: 0.00, Min: -0.01, Time: 0.03\n",
      "Episode 90, Average Score: -0.00, Max: 0.00, Min: -0.01, Time: 0.03\n",
      "Model Save...\n",
      "Episode 100, Average Score: 0.00, Max: 0.00, Min: -0.01, Time: 0.26\n",
      "Episode 110, Average Score: 0.00, Max: 0.00, Min: -0.01, Time: 0.26\n",
      "Episode 120, Average Score: 0.01, Max: 0.09, Min: 0.00, Time: 0.31\n",
      "Episode 130, Average Score: 0.01, Max: 0.10, Min: -0.01, Time: 0.29\n",
      "Episode 140, Average Score: 0.01, Max: 0.10, Min: 0.09, Time: 0.79\n",
      "Episode 150, Average Score: 0.01, Max: 0.00, Min: -0.01, Time: 0.03\n",
      "Episode 160, Average Score: 0.01, Max: 0.00, Min: -0.01, Time: 0.27\n",
      "Episode 170, Average Score: 0.01, Max: 0.00, Min: -0.01, Time: 0.27\n",
      "Episode 180, Average Score: 0.01, Max: 0.00, Min: -0.01, Time: 0.27\n",
      "Episode 190, Average Score: 0.01, Max: 0.10, Min: 0.09, Time: 0.84\n",
      "Model Save...\n",
      "Episode 200, Average Score: 0.01, Max: 0.00, Min: -0.01, Time: 0.03\n",
      "Episode 210, Average Score: 0.01, Max: 0.00, Min: -0.01, Time: 0.26\n",
      "Episode 220, Average Score: 0.01, Max: 0.00, Min: -0.01, Time: 0.26\n",
      "Episode 230, Average Score: 0.01, Max: 0.09, Min: 0.00, Time: 0.30\n",
      "Episode 240, Average Score: 0.01, Max: 0.00, Min: -0.01, Time: 0.27\n",
      "Episode 250, Average Score: 0.01, Max: 0.00, Min: -0.01, Time: 0.27\n",
      "Episode 260, Average Score: 0.01, Max: 0.10, Min: -0.01, Time: 0.30\n",
      "Episode 270, Average Score: 0.01, Max: 0.00, Min: -0.01, Time: 0.26\n",
      "Episode 280, Average Score: 0.01, Max: 0.00, Min: -0.01, Time: 0.26\n",
      "Episode 290, Average Score: 0.01, Max: 0.10, Min: -0.01, Time: 0.52\n",
      "Model Save...\n",
      "Episode 300, Average Score: 0.02, Max: 0.00, Min: -0.01, Time: 0.04\n",
      "Episode 310, Average Score: 0.01, Max: 0.00, Min: -0.01, Time: 0.26\n",
      "Episode 320, Average Score: 0.01, Max: 0.00, Min: -0.01, Time: 0.27\n",
      "Episode 330, Average Score: 0.01, Max: 0.00, Min: -0.01, Time: 0.27\n",
      "Episode 340, Average Score: 0.01, Max: 0.00, Min: -0.01, Time: 0.26\n",
      "Episode 350, Average Score: 0.01, Max: 0.00, Min: -0.01, Time: 0.03\n",
      "Episode 360, Average Score: 0.01, Max: 0.00, Min: -0.01, Time: 0.26\n",
      "Episode 370, Average Score: 0.01, Max: 0.00, Min: -0.01, Time: 0.27\n",
      "Episode 380, Average Score: 0.01, Max: 0.09, Min: 0.00, Time: 0.34\n",
      "Episode 390, Average Score: 0.01, Max: 0.09, Min: 0.00, Time: 0.54\n",
      "Model Save...\n",
      "Episode 400, Average Score: 0.02, Max: 0.10, Min: -0.01, Time: 0.62\n",
      "Episode 410, Average Score: 0.02, Max: 0.09, Min: 0.00, Time: 0.34\n",
      "Episode 420, Average Score: 0.02, Max: 0.09, Min: 0.00, Time: 0.54\n",
      "Episode 430, Average Score: 0.03, Max: 0.10, Min: -0.01, Time: 0.30\n",
      "Episode 440, Average Score: 0.03, Max: 0.00, Min: -0.01, Time: 0.03\n",
      "Episode 450, Average Score: 0.03, Max: 0.00, Min: -0.01, Time: 0.03\n",
      "Episode 460, Average Score: 0.03, Max: 0.09, Min: 0.00, Time: 0.54\n",
      "Episode 470, Average Score: 0.03, Max: 0.00, Min: -0.01, Time: 0.28\n",
      "Episode 480, Average Score: 0.03, Max: 0.09, Min: 0.00, Time: 0.54\n",
      "Episode 490, Average Score: 0.03, Max: 0.00, Min: -0.01, Time: 0.03\n",
      "Model Save...\n",
      "Episode 500, Average Score: 0.03, Max: 0.10, Min: -0.01, Time: 0.56\n",
      "Episode 510, Average Score: 0.03, Max: 0.10, Min: -0.01, Time: 0.54\n",
      "Episode 520, Average Score: 0.03, Max: 0.10, Min: 0.09, Time: 0.81\n",
      "Episode 530, Average Score: 0.03, Max: 0.09, Min: 0.00, Time: 0.31\n",
      "Episode 540, Average Score: 0.03, Max: 0.09, Min: 0.00, Time: 0.54\n",
      "Episode 550, Average Score: 0.03, Max: 0.10, Min: -0.01, Time: 0.54\n",
      "Episode 560, Average Score: 0.03, Max: 0.00, Min: -0.01, Time: 0.27\n",
      "Episode 570, Average Score: 0.04, Max: 0.09, Min: 0.00, Time: 0.54\n",
      "Episode 580, Average Score: 0.04, Max: 0.10, Min: -0.01, Time: 0.66\n",
      "Episode 590, Average Score: 0.04, Max: 0.00, Min: -0.01, Time: 0.27\n",
      "Model Save...\n",
      "Episode 600, Average Score: 0.04, Max: 0.00, Min: -0.01, Time: 0.30\n",
      "Episode 610, Average Score: 0.04, Max: 0.00, Min: -0.01, Time: 0.03\n",
      "Episode 620, Average Score: 0.04, Max: 0.00, Min: -0.01, Time: 0.27\n",
      "Episode 630, Average Score: 0.03, Max: 0.00, Min: -0.01, Time: 0.03\n",
      "Episode 640, Average Score: 0.03, Max: 0.30, Min: 0.19, Time: 1.66\n",
      "Episode 650, Average Score: 0.03, Max: 0.00, Min: -0.01, Time: 0.27\n",
      "Episode 660, Average Score: 0.04, Max: 0.20, Min: 0.09, Time: 0.87\n",
      "Episode 670, Average Score: 0.04, Max: 0.20, Min: 0.09, Time: 0.88\n",
      "Episode 680, Average Score: 0.04, Max: 0.10, Min: -0.01, Time: 0.58\n",
      "Episode 690, Average Score: 0.05, Max: 0.09, Min: 0.00, Time: 0.30\n",
      "Model Save...\n",
      "Episode 700, Average Score: 0.06, Max: 0.10, Min: -0.01, Time: 0.56\n",
      "Episode 710, Average Score: 0.07, Max: 0.00, Min: -0.01, Time: 0.27\n",
      "Episode 720, Average Score: 0.07, Max: 0.10, Min: 0.09, Time: 0.84\n",
      "Episode 730, Average Score: 0.08, Max: 0.09, Min: 0.00, Time: 0.31\n",
      "Episode 740, Average Score: 0.09, Max: 0.30, Min: 0.18, Time: 1.99\n",
      "Episode 750, Average Score: 0.09, Max: 0.10, Min: 0.09, Time: 1.11\n",
      "Episode 760, Average Score: 0.11, Max: 0.10, Min: 0.09, Time: 0.84\n",
      "Episode 770, Average Score: 0.11, Max: 0.20, Min: 0.09, Time: 1.12\n",
      "Episode 780, Average Score: 0.11, Max: 0.10, Min: -0.01, Time: 0.82\n",
      "Episode 790, Average Score: 0.11, Max: 0.10, Min: -0.01, Time: 0.31\n",
      "Model Save...\n",
      "Episode 800, Average Score: 0.14, Max: 0.30, Min: 0.19, Time: 1.74\n",
      "Episode 810, Average Score: 0.14, Max: 0.10, Min: -0.01, Time: 0.56\n",
      "Episode 820, Average Score: 0.15, Max: 0.10, Min: -0.01, Time: 0.56\n",
      "Episode 830, Average Score: 0.16, Max: 0.20, Min: 0.19, Time: 1.18\n",
      "Episode 840, Average Score: 0.17, Max: 0.39, Min: 0.30, Time: 2.46\n",
      "Episode 850, Average Score: 0.25, Max: 2.60, Min: 2.60, Time: 14.60\n",
      "Episode 860, Average Score: 0.36, Max: 2.10, Min: 2.09, Time: 14.27\n",
      "Episode 870, Average Score: 0.44, Max: 1.80, Min: 1.69, Time: 10.44\n",
      "Model Save...\n",
      "\n",
      "Environment solved in 877 episodes!\tAverage Score: 0.51\n"
     ]
    }
   ],
   "source": [
    "def ddpg(n_episodes=3200, max_t=1000, print_every=10, save_every=100):\n",
    "    scores_deque = deque(maxlen=100)\n",
    "    scores_global = []\n",
    "        \n",
    "    for i_episode in range(1, n_episodes+1):\n",
    "        env_info = env.reset(train_mode=True)[brain_name]      # reset the environment    \n",
    "        states = env_info.vector_observations                  # get the current state (for each agent)\n",
    "        scores = np.zeros(num_agents)                          # initialize the score (for each agent)\n",
    "        agent.reset()\n",
    "        \n",
    "        score_average = 0\n",
    "        timestep = time.time()\n",
    "        for t in count():\n",
    "            actions = agent.act(states)\n",
    "            env_info = env.step(actions)[brain_name]           # send all actions to tne environment\n",
    "            next_states = env_info.vector_observations         # get next state (for each agent)\n",
    "            rewards = env_info.rewards                         # get reward (for each agent)\n",
    "            dones = env_info.local_done                        # see if episode finished\n",
    "            agent.step(states, actions, rewards, next_states, dones)\n",
    "            states = next_states                               # roll over states to next time step\n",
    "            scores += rewards                                  # update the score (for each agent)            \n",
    "            if np.any(dones):                                  # exit loop if episode finished\n",
    "                break\n",
    "        \n",
    "        score = np.mean(scores)\n",
    "        scores_deque.append(score)\n",
    "        score_average = np.mean(scores_deque)\n",
    "        scores_global.append(score)\n",
    "        \n",
    "        if i_episode % save_every == 0:\n",
    "            save_model()\n",
    "        \n",
    "        if i_episode % print_every == 0:\n",
    "            print('\\rEpisode {}, Average Score: {:.2f}, Max: {:.2f}, Min: {:.2f}, Time: {:.2f}'\\\n",
    "                  .format(i_episode, score_average, np.max(scores), np.min(scores), time.time() - timestep), end=\"\\n\")        \n",
    "                    \n",
    "        if score_average >= 0.5:\n",
    "            save_model()\n",
    "            print('\\nEnvironment solved in {:d} episodes!\\tAverage Score: {:.2f}'.format(i_episode, score_average))            \n",
    "            break            \n",
    "            \n",
    "    return scores_global\n",
    "\n",
    "scores = ddpg()"
   ]
  },
  {
   "cell_type": "markdown",
   "metadata": {},
   "source": [
    "#### 3. Plot¶"
   ]
  },
  {
   "cell_type": "code",
   "execution_count": 11,
   "metadata": {},
   "outputs": [
    {
     "data": {
      "image/png": "[encoded data removed]",
      "text/plain": [
       "<Figure size 432x288 with 1 Axes>"
      ]
     },
     "metadata": {
      "needs_background": "light"
     },
     "output_type": "display_data"
    }
   ],
   "source": [
    "fig = plt.figure()\n",
    "ax = fig.add_subplot(111)\n",
    "plt.plot(np.arange(1, len(scores)+1), scores)\n",
    "plt.ylabel('Score')\n",
    "plt.xlabel('Episode #')\n",
    "plt.show()"
   ]
  },
  {
   "cell_type": "markdown",
   "metadata": {},
   "source": [
    "#### 4. Watch a Smart Agent!¶"
   ]
  },
  {
   "cell_type": "code",
   "execution_count": 12,
   "metadata": {},
   "outputs": [
    {
     "name": "stdout",
     "output_type": "stream",
     "text": [
      "Total score (averaged over agents) this episode: 2.650000039488077\n"
     ]
    }
   ],
   "source": [
    "agent.actor_local.load_state_dict(torch.load('checkpoint_actor.pth'))\n",
    "agent.critic_local.load_state_dict(torch.load('checkpoint_critic.pth'))\n",
    "\n",
    "env_info = env.reset(train_mode=False)[brain_name]     # reset the environment    \n",
    "states = env_info.vector_observations                  # get the current state (for each agent)\n",
    "scores = np.zeros(num_agents)                          # initialize the score (for each agent)\n",
    "while True:\n",
    "    actions = agent.act(states)                        # select an action (for each agent)\n",
    "    env_info = env.step(actions)[brain_name]           # send all actions to tne environment\n",
    "    next_states = env_info.vector_observations         # get next state (for each agent)\n",
    "    rewards = env_info.rewards                         # get reward (for each agent)\n",
    "    dones = env_info.local_done                        # see if episode finished\n",
    "    scores += env_info.rewards                         # update the score (for each agent)\n",
    "    states = next_states                               # roll over states to next time step\n",
    "    if np.any(dones):                                  # exit loop if episode finished\n",
    "        break\n",
    "print('Total score (averaged over agents) this episode: {}'.format(np.mean(scores)))"
   ]
  },
  {
   "cell_type": "code",
   "execution_count": 14,
   "metadata": {},
   "outputs": [],
   "source": [
    "env.close()"
   ]
  }
 ],
 "metadata": {
  "kernelspec": {
   "display_name": "Python 3",
   "language": "python",
   "name": "python3"
  },
  "language_info": {
   "codemirror_mode": {
    "name": "ipython",
    "version": 3
   },
   "file_extension": ".py",
   "mimetype": "text/x-python",
   "name": "python",
   "nbconvert_exporter": "python",
   "pygments_lexer": "ipython3",
   "version": "3.6.10"
  }
 },
 "nbformat": 4,
 "nbformat_minor": 2
}
